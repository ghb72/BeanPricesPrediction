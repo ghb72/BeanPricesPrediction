{
 "cells": [
  {
   "cell_type": "code",
   "execution_count": 97,
   "metadata": {},
   "outputs": [],
   "source": [
    "import pandas as pd\n",
    "import seaborn as sns\n",
    "import plotly.express as px\n",
    "import numpy as np"
   ]
  },
  {
   "cell_type": "code",
   "execution_count": 1,
   "metadata": {},
   "outputs": [],
   "source": [
    "def read_prices(file:str, dropna=False):\n",
    "    data = pd.read_csv(file)\n",
    "    data.replace('\\r\\n',np.nan, inplace=True)\n",
    "    data = data.melt(id_vars=['Ano'])\n",
    "    data.replace({\n",
    "        'Ene': 1,\n",
    "        'Feb': 2,\n",
    "        'Mar': 3,\n",
    "        'Abr': 4,\n",
    "        'May': 5,\n",
    "        'Jun': 6,\n",
    "        'Jul': 7,\n",
    "        'Ago': 8,\n",
    "        'Sep': 9,\n",
    "        'Oct': 10,\n",
    "        'Nov': 11,\n",
    "        'Dic': 12\n",
    "    }, inplace=True)\n",
    "    def combinar_año_mes(row):\n",
    "        return pd.to_datetime(f\"{row['year']}-{row['month']}-{15}\", format=\"%Y-%m-%d\")\n",
    "    data.columns = ['year','month','price']\n",
    "    data['date'] = data.apply(combinar_año_mes, axis=1)\n",
    "    data.drop(columns=['year','month'], inplace=True)\n",
    "    data.set_index('date',inplace=True)\n",
    "    data = data.sort_index().astype(float)\n",
    "    if dropna == True:\n",
    "        data.dropna(inplace=True)\n",
    "    return data\n"
   ]
  },
  {
   "cell_type": "code",
   "execution_count": 101,
   "metadata": {},
   "outputs": [
    {
     "name": "stderr",
     "output_type": "stream",
     "text": [
      "C:\\Users\\guill\\AppData\\Local\\Temp\\ipykernel_16788\\3900338016.py:6: FutureWarning:\n",
      "\n",
      "Downcasting behavior in `replace` is deprecated and will be removed in a future version. To retain the old behavior, explicitly call `result.infer_objects(copy=False)`. To opt-in to the future behavior, set `pd.set_option('future.no_silent_downcasting', True)`\n",
      "\n"
     ]
    },
    {
     "data": {
      "text/html": [
       "<div>\n",
       "<style scoped>\n",
       "    .dataframe tbody tr th:only-of-type {\n",
       "        vertical-align: middle;\n",
       "    }\n",
       "\n",
       "    .dataframe tbody tr th {\n",
       "        vertical-align: top;\n",
       "    }\n",
       "\n",
       "    .dataframe thead th {\n",
       "        text-align: right;\n",
       "    }\n",
       "</style>\n",
       "<table border=\"1\" class=\"dataframe\">\n",
       "  <thead>\n",
       "    <tr style=\"text-align: right;\">\n",
       "      <th></th>\n",
       "      <th>price</th>\n",
       "    </tr>\n",
       "    <tr>\n",
       "      <th>date</th>\n",
       "      <th></th>\n",
       "    </tr>\n",
       "  </thead>\n",
       "  <tbody>\n",
       "    <tr>\n",
       "      <th>1998-01-15</th>\n",
       "      <td>5.25</td>\n",
       "    </tr>\n",
       "    <tr>\n",
       "      <th>1998-02-15</th>\n",
       "      <td>5.58</td>\n",
       "    </tr>\n",
       "    <tr>\n",
       "      <th>1998-03-15</th>\n",
       "      <td>6.00</td>\n",
       "    </tr>\n",
       "    <tr>\n",
       "      <th>1998-04-15</th>\n",
       "      <td>6.00</td>\n",
       "    </tr>\n",
       "    <tr>\n",
       "      <th>1998-05-15</th>\n",
       "      <td>6.00</td>\n",
       "    </tr>\n",
       "    <tr>\n",
       "      <th>...</th>\n",
       "      <td>...</td>\n",
       "    </tr>\n",
       "    <tr>\n",
       "      <th>2024-08-15</th>\n",
       "      <td>30.00</td>\n",
       "    </tr>\n",
       "    <tr>\n",
       "      <th>2024-09-15</th>\n",
       "      <td>NaN</td>\n",
       "    </tr>\n",
       "    <tr>\n",
       "      <th>2024-10-15</th>\n",
       "      <td>NaN</td>\n",
       "    </tr>\n",
       "    <tr>\n",
       "      <th>2024-11-15</th>\n",
       "      <td>NaN</td>\n",
       "    </tr>\n",
       "    <tr>\n",
       "      <th>2024-12-15</th>\n",
       "      <td>NaN</td>\n",
       "    </tr>\n",
       "  </tbody>\n",
       "</table>\n",
       "<p>300 rows × 1 columns</p>\n",
       "</div>"
      ],
      "text/plain": [
       "            price\n",
       "date             \n",
       "1998-01-15   5.25\n",
       "1998-02-15   5.58\n",
       "1998-03-15   6.00\n",
       "1998-04-15   6.00\n",
       "1998-05-15   6.00\n",
       "...           ...\n",
       "2024-08-15  30.00\n",
       "2024-09-15    NaN\n",
       "2024-10-15    NaN\n",
       "2024-11-15    NaN\n",
       "2024-12-15    NaN\n",
       "\n",
       "[300 rows x 1 columns]"
      ]
     },
     "execution_count": 101,
     "metadata": {},
     "output_type": "execute_result"
    }
   ],
   "source": [
    "bayo_prices = read_prices('prices_data/bayo_bean_prices.csv',False)\n",
    "bayo_prices"
   ]
  },
  {
   "cell_type": "code",
   "execution_count": 102,
   "metadata": {},
   "outputs": [
    {
     "data": {
      "application/vnd.plotly.v1+json": {
       "config": {
        "plotlyServerURL": "https://plot.ly"
       },
       "data": [
        {
         "hovertemplate": "variable=price<br>date=%{x}<br>value=%{y}<extra></extra>",
         "legendgroup": "price",
         "line": {
          "color": "#636efa",
          "dash": "solid"
         },
         "marker": {
          "symbol": "circle"
         },
         "mode": "lines",
         "name": "price",
         "orientation": "v",
         "showlegend": true,
         "type": "scatter",
         "x": [
          "1998-01-15T00:00:00",
          "1998-02-15T00:00:00",
          "1998-03-15T00:00:00",
          "1998-04-15T00:00:00",
          "1998-05-15T00:00:00",
          "1998-06-15T00:00:00",
          "1998-07-15T00:00:00",
          "1998-08-15T00:00:00",
          "1998-09-15T00:00:00",
          "1998-10-15T00:00:00",
          "1998-11-15T00:00:00",
          "1998-12-15T00:00:00",
          "1999-01-15T00:00:00",
          "1999-02-15T00:00:00",
          "1999-03-15T00:00:00",
          "1999-04-15T00:00:00",
          "1999-05-15T00:00:00",
          "1999-06-15T00:00:00",
          "1999-07-15T00:00:00",
          "1999-08-15T00:00:00",
          "1999-09-15T00:00:00",
          "1999-10-15T00:00:00",
          "1999-11-15T00:00:00",
          "1999-12-15T00:00:00",
          "2000-01-15T00:00:00",
          "2000-02-15T00:00:00",
          "2000-03-15T00:00:00",
          "2000-04-15T00:00:00",
          "2000-05-15T00:00:00",
          "2000-06-15T00:00:00",
          "2000-07-15T00:00:00",
          "2000-08-15T00:00:00",
          "2000-09-15T00:00:00",
          "2000-10-15T00:00:00",
          "2000-11-15T00:00:00",
          "2000-12-15T00:00:00",
          "2001-01-15T00:00:00",
          "2001-02-15T00:00:00",
          "2001-03-15T00:00:00",
          "2001-04-15T00:00:00",
          "2001-05-15T00:00:00",
          "2001-06-15T00:00:00",
          "2001-07-15T00:00:00",
          "2001-08-15T00:00:00",
          "2001-09-15T00:00:00",
          "2001-10-15T00:00:00",
          "2001-11-15T00:00:00",
          "2001-12-15T00:00:00",
          "2002-01-15T00:00:00",
          "2002-02-15T00:00:00",
          "2002-03-15T00:00:00",
          "2002-04-15T00:00:00",
          "2002-05-15T00:00:00",
          "2002-06-15T00:00:00",
          "2002-07-15T00:00:00",
          "2002-08-15T00:00:00",
          "2002-09-15T00:00:00",
          "2002-10-15T00:00:00",
          "2002-11-15T00:00:00",
          "2002-12-15T00:00:00",
          "2005-01-15T00:00:00",
          "2005-02-15T00:00:00",
          "2005-03-15T00:00:00",
          "2005-04-15T00:00:00",
          "2005-05-15T00:00:00",
          "2005-06-15T00:00:00",
          "2005-07-15T00:00:00",
          "2005-08-15T00:00:00",
          "2005-09-15T00:00:00",
          "2005-10-15T00:00:00",
          "2005-11-15T00:00:00",
          "2005-12-15T00:00:00",
          "2006-01-15T00:00:00",
          "2006-02-15T00:00:00",
          "2006-03-15T00:00:00",
          "2006-04-15T00:00:00",
          "2006-05-15T00:00:00",
          "2006-06-15T00:00:00",
          "2006-07-15T00:00:00",
          "2006-08-15T00:00:00",
          "2006-09-15T00:00:00",
          "2006-10-15T00:00:00",
          "2006-11-15T00:00:00",
          "2006-12-15T00:00:00",
          "2007-01-15T00:00:00",
          "2007-02-15T00:00:00",
          "2007-03-15T00:00:00",
          "2007-04-15T00:00:00",
          "2007-05-15T00:00:00",
          "2007-06-15T00:00:00",
          "2007-07-15T00:00:00",
          "2007-08-15T00:00:00",
          "2007-09-15T00:00:00",
          "2007-10-15T00:00:00",
          "2007-11-15T00:00:00",
          "2007-12-15T00:00:00",
          "2008-01-15T00:00:00",
          "2008-02-15T00:00:00",
          "2008-03-15T00:00:00",
          "2008-04-15T00:00:00",
          "2008-05-15T00:00:00",
          "2008-06-15T00:00:00",
          "2008-07-15T00:00:00",
          "2008-08-15T00:00:00",
          "2008-09-15T00:00:00",
          "2008-10-15T00:00:00",
          "2008-11-15T00:00:00",
          "2008-12-15T00:00:00",
          "2009-01-15T00:00:00",
          "2009-02-15T00:00:00",
          "2009-03-15T00:00:00",
          "2009-04-15T00:00:00",
          "2009-05-15T00:00:00",
          "2009-06-15T00:00:00",
          "2009-07-15T00:00:00",
          "2009-08-15T00:00:00",
          "2009-09-15T00:00:00",
          "2009-10-15T00:00:00",
          "2009-11-15T00:00:00",
          "2009-12-15T00:00:00",
          "2010-01-15T00:00:00",
          "2010-02-15T00:00:00",
          "2010-03-15T00:00:00",
          "2010-04-15T00:00:00",
          "2010-05-15T00:00:00",
          "2010-06-15T00:00:00",
          "2010-07-15T00:00:00",
          "2010-08-15T00:00:00",
          "2010-09-15T00:00:00",
          "2010-10-15T00:00:00",
          "2010-11-15T00:00:00",
          "2010-12-15T00:00:00",
          "2011-01-15T00:00:00",
          "2011-02-15T00:00:00",
          "2011-03-15T00:00:00",
          "2011-04-15T00:00:00",
          "2011-05-15T00:00:00",
          "2011-06-15T00:00:00",
          "2011-07-15T00:00:00",
          "2011-08-15T00:00:00",
          "2011-09-15T00:00:00",
          "2011-10-15T00:00:00",
          "2011-11-15T00:00:00",
          "2011-12-15T00:00:00",
          "2012-01-15T00:00:00",
          "2012-02-15T00:00:00",
          "2012-03-15T00:00:00",
          "2012-04-15T00:00:00",
          "2012-05-15T00:00:00",
          "2012-06-15T00:00:00",
          "2012-07-15T00:00:00",
          "2012-08-15T00:00:00",
          "2012-09-15T00:00:00",
          "2012-10-15T00:00:00",
          "2012-11-15T00:00:00",
          "2012-12-15T00:00:00",
          "2013-01-15T00:00:00",
          "2013-02-15T00:00:00",
          "2013-03-15T00:00:00",
          "2013-04-15T00:00:00",
          "2013-05-15T00:00:00",
          "2013-06-15T00:00:00",
          "2013-07-15T00:00:00",
          "2013-08-15T00:00:00",
          "2013-09-15T00:00:00",
          "2013-10-15T00:00:00",
          "2013-11-15T00:00:00",
          "2013-12-15T00:00:00",
          "2014-01-15T00:00:00",
          "2014-02-15T00:00:00",
          "2014-03-15T00:00:00",
          "2014-04-15T00:00:00",
          "2014-05-15T00:00:00",
          "2014-06-15T00:00:00",
          "2014-07-15T00:00:00",
          "2014-08-15T00:00:00",
          "2014-09-15T00:00:00",
          "2014-10-15T00:00:00",
          "2014-11-15T00:00:00",
          "2014-12-15T00:00:00",
          "2015-01-15T00:00:00",
          "2015-02-15T00:00:00",
          "2015-03-15T00:00:00",
          "2015-04-15T00:00:00",
          "2015-05-15T00:00:00",
          "2015-06-15T00:00:00",
          "2015-07-15T00:00:00",
          "2015-08-15T00:00:00",
          "2015-09-15T00:00:00",
          "2015-10-15T00:00:00",
          "2015-11-15T00:00:00",
          "2015-12-15T00:00:00",
          "2016-01-15T00:00:00",
          "2016-02-15T00:00:00",
          "2016-03-15T00:00:00",
          "2016-04-15T00:00:00",
          "2016-05-15T00:00:00",
          "2016-06-15T00:00:00",
          "2016-07-15T00:00:00",
          "2016-08-15T00:00:00",
          "2016-09-15T00:00:00",
          "2016-10-15T00:00:00",
          "2016-11-15T00:00:00",
          "2016-12-15T00:00:00",
          "2017-01-15T00:00:00",
          "2017-02-15T00:00:00",
          "2017-03-15T00:00:00",
          "2017-04-15T00:00:00",
          "2017-05-15T00:00:00",
          "2017-06-15T00:00:00",
          "2017-07-15T00:00:00",
          "2017-08-15T00:00:00",
          "2017-09-15T00:00:00",
          "2017-10-15T00:00:00",
          "2017-11-15T00:00:00",
          "2017-12-15T00:00:00",
          "2018-01-15T00:00:00",
          "2018-02-15T00:00:00",
          "2018-03-15T00:00:00",
          "2018-04-15T00:00:00",
          "2018-05-15T00:00:00",
          "2018-06-15T00:00:00",
          "2018-07-15T00:00:00",
          "2018-08-15T00:00:00",
          "2018-09-15T00:00:00",
          "2018-10-15T00:00:00",
          "2018-11-15T00:00:00",
          "2018-12-15T00:00:00",
          "2019-01-15T00:00:00",
          "2019-02-15T00:00:00",
          "2019-03-15T00:00:00",
          "2019-04-15T00:00:00",
          "2019-05-15T00:00:00",
          "2019-06-15T00:00:00",
          "2019-07-15T00:00:00",
          "2019-08-15T00:00:00",
          "2019-09-15T00:00:00",
          "2019-10-15T00:00:00",
          "2019-11-15T00:00:00",
          "2019-12-15T00:00:00",
          "2020-01-15T00:00:00",
          "2020-02-15T00:00:00",
          "2020-03-15T00:00:00",
          "2020-04-15T00:00:00",
          "2020-05-15T00:00:00",
          "2020-06-15T00:00:00",
          "2020-07-15T00:00:00",
          "2020-08-15T00:00:00",
          "2020-09-15T00:00:00",
          "2020-10-15T00:00:00",
          "2020-11-15T00:00:00",
          "2020-12-15T00:00:00",
          "2021-01-15T00:00:00",
          "2021-02-15T00:00:00",
          "2021-03-15T00:00:00",
          "2021-04-15T00:00:00",
          "2021-05-15T00:00:00",
          "2021-06-15T00:00:00",
          "2021-07-15T00:00:00",
          "2021-08-15T00:00:00",
          "2021-09-15T00:00:00",
          "2021-10-15T00:00:00",
          "2021-11-15T00:00:00",
          "2021-12-15T00:00:00",
          "2022-01-15T00:00:00",
          "2022-02-15T00:00:00",
          "2022-03-15T00:00:00",
          "2022-04-15T00:00:00",
          "2022-05-15T00:00:00",
          "2022-06-15T00:00:00",
          "2022-07-15T00:00:00",
          "2022-08-15T00:00:00",
          "2022-09-15T00:00:00",
          "2022-10-15T00:00:00",
          "2022-11-15T00:00:00",
          "2022-12-15T00:00:00",
          "2023-01-15T00:00:00",
          "2023-02-15T00:00:00",
          "2023-03-15T00:00:00",
          "2023-04-15T00:00:00",
          "2023-05-15T00:00:00",
          "2023-06-15T00:00:00",
          "2023-07-15T00:00:00",
          "2023-08-15T00:00:00",
          "2023-09-15T00:00:00",
          "2023-10-15T00:00:00",
          "2023-11-15T00:00:00",
          "2023-12-15T00:00:00",
          "2024-01-15T00:00:00",
          "2024-02-15T00:00:00",
          "2024-03-15T00:00:00",
          "2024-04-15T00:00:00",
          "2024-05-15T00:00:00",
          "2024-06-15T00:00:00",
          "2024-07-15T00:00:00",
          "2024-08-15T00:00:00",
          "2024-09-15T00:00:00",
          "2024-10-15T00:00:00",
          "2024-11-15T00:00:00",
          "2024-12-15T00:00:00"
         ],
         "xaxis": "x",
         "y": [
          5.25,
          5.58,
          6,
          6,
          6,
          6,
          7,
          7.75,
          6.7,
          6,
          5.62,
          5,
          5,
          4.75,
          4.5,
          4.5,
          4.5,
          4.2,
          4,
          3.62,
          3.5,
          4.62,
          5,
          5,
          5.12,
          5.4,
          5.17,
          6,
          7.4,
          8.75,
          8.75,
          7.8,
          8,
          6.75,
          6.2,
          6.4,
          6.5,
          6.75,
          7.25,
          7.25,
          9,
          8.75,
          9.5,
          9.7,
          10.12,
          9,
          8.62,
          7.5,
          7.62,
          8.25,
          8.12,
          8.56,
          8.75,
          9,
          null,
          null,
          null,
          null,
          null,
          null,
          null,
          5,
          5,
          5,
          5.62,
          7.5,
          8.25,
          8.4,
          9,
          10,
          10,
          10,
          9.8,
          8.83,
          9.4,
          10,
          10,
          10,
          10,
          10,
          10,
          9,
          7,
          5,
          5,
          5.12,
          5,
          5,
          5,
          5.75,
          6,
          6,
          6,
          6,
          6,
          6,
          7,
          7.5,
          8,
          8.8,
          11,
          11,
          12,
          null,
          null,
          10,
          10,
          11,
          12.33,
          12,
          12,
          13.2,
          13.25,
          13.5,
          13.6,
          14,
          15.75,
          14.25,
          12,
          13,
          12.5,
          12.12,
          11.4,
          12,
          11.5,
          10,
          10,
          9,
          8.4,
          9,
          7.33,
          7,
          7,
          7.25,
          8,
          7.62,
          7.5,
          7.8,
          8.75,
          10,
          14,
          14,
          14.6,
          17.25,
          18.5,
          20,
          22,
          24,
          28,
          26,
          26.5,
          25.6,
          22,
          18.4,
          17.5,
          18,
          18,
          18,
          18.75,
          19,
          18,
          16,
          13,
          12.75,
          12,
          12,
          12,
          12,
          10,
          10,
          10,
          6.8,
          6,
          6,
          6,
          6,
          7,
          10,
          10,
          10,
          10,
          10,
          10,
          10,
          10,
          10,
          10,
          8.5,
          7,
          7.75,
          10.5,
          14.6,
          13.5,
          14,
          15.2,
          16,
          15.5,
          14,
          14,
          14,
          14,
          14,
          14,
          14.5,
          16,
          16,
          16.4,
          18,
          18,
          19.5,
          20,
          20,
          19,
          18,
          13.2,
          12.5,
          14,
          14,
          14,
          14,
          14,
          14,
          14,
          12.8,
          12,
          12,
          12,
          12,
          12,
          14,
          14,
          14,
          14,
          12,
          12,
          12,
          13,
          16,
          16,
          20,
          20,
          20,
          21,
          28.8,
          30,
          null,
          null,
          null,
          30,
          28,
          21.5,
          22,
          22,
          22,
          22,
          22,
          22,
          23.6,
          24,
          24,
          24,
          24,
          24,
          null,
          18,
          18,
          null,
          null,
          null,
          null,
          20,
          22,
          22,
          22,
          22,
          21,
          21,
          22,
          22,
          24,
          24,
          24.25,
          22,
          23.6,
          26.25,
          28.75,
          29.6,
          29,
          29.8,
          31,
          30,
          30,
          32.5,
          35,
          null,
          30,
          null,
          null,
          null,
          null
         ],
         "yaxis": "y"
        }
       ],
       "layout": {
        "legend": {
         "title": {
          "text": "variable"
         },
         "tracegroupgap": 0
        },
        "margin": {
         "t": 60
        },
        "template": {
         "data": {
          "bar": [
           {
            "error_x": {
             "color": "#2a3f5f"
            },
            "error_y": {
             "color": "#2a3f5f"
            },
            "marker": {
             "line": {
              "color": "#E5ECF6",
              "width": 0.5
             },
             "pattern": {
              "fillmode": "overlay",
              "size": 10,
              "solidity": 0.2
             }
            },
            "type": "bar"
           }
          ],
          "barpolar": [
           {
            "marker": {
             "line": {
              "color": "#E5ECF6",
              "width": 0.5
             },
             "pattern": {
              "fillmode": "overlay",
              "size": 10,
              "solidity": 0.2
             }
            },
            "type": "barpolar"
           }
          ],
          "carpet": [
           {
            "aaxis": {
             "endlinecolor": "#2a3f5f",
             "gridcolor": "white",
             "linecolor": "white",
             "minorgridcolor": "white",
             "startlinecolor": "#2a3f5f"
            },
            "baxis": {
             "endlinecolor": "#2a3f5f",
             "gridcolor": "white",
             "linecolor": "white",
             "minorgridcolor": "white",
             "startlinecolor": "#2a3f5f"
            },
            "type": "carpet"
           }
          ],
          "choropleth": [
           {
            "colorbar": {
             "outlinewidth": 0,
             "ticks": ""
            },
            "type": "choropleth"
           }
          ],
          "contour": [
           {
            "colorbar": {
             "outlinewidth": 0,
             "ticks": ""
            },
            "colorscale": [
             [
              0,
              "#0d0887"
             ],
             [
              0.1111111111111111,
              "#46039f"
             ],
             [
              0.2222222222222222,
              "#7201a8"
             ],
             [
              0.3333333333333333,
              "#9c179e"
             ],
             [
              0.4444444444444444,
              "#bd3786"
             ],
             [
              0.5555555555555556,
              "#d8576b"
             ],
             [
              0.6666666666666666,
              "#ed7953"
             ],
             [
              0.7777777777777778,
              "#fb9f3a"
             ],
             [
              0.8888888888888888,
              "#fdca26"
             ],
             [
              1,
              "#f0f921"
             ]
            ],
            "type": "contour"
           }
          ],
          "contourcarpet": [
           {
            "colorbar": {
             "outlinewidth": 0,
             "ticks": ""
            },
            "type": "contourcarpet"
           }
          ],
          "heatmap": [
           {
            "colorbar": {
             "outlinewidth": 0,
             "ticks": ""
            },
            "colorscale": [
             [
              0,
              "#0d0887"
             ],
             [
              0.1111111111111111,
              "#46039f"
             ],
             [
              0.2222222222222222,
              "#7201a8"
             ],
             [
              0.3333333333333333,
              "#9c179e"
             ],
             [
              0.4444444444444444,
              "#bd3786"
             ],
             [
              0.5555555555555556,
              "#d8576b"
             ],
             [
              0.6666666666666666,
              "#ed7953"
             ],
             [
              0.7777777777777778,
              "#fb9f3a"
             ],
             [
              0.8888888888888888,
              "#fdca26"
             ],
             [
              1,
              "#f0f921"
             ]
            ],
            "type": "heatmap"
           }
          ],
          "heatmapgl": [
           {
            "colorbar": {
             "outlinewidth": 0,
             "ticks": ""
            },
            "colorscale": [
             [
              0,
              "#0d0887"
             ],
             [
              0.1111111111111111,
              "#46039f"
             ],
             [
              0.2222222222222222,
              "#7201a8"
             ],
             [
              0.3333333333333333,
              "#9c179e"
             ],
             [
              0.4444444444444444,
              "#bd3786"
             ],
             [
              0.5555555555555556,
              "#d8576b"
             ],
             [
              0.6666666666666666,
              "#ed7953"
             ],
             [
              0.7777777777777778,
              "#fb9f3a"
             ],
             [
              0.8888888888888888,
              "#fdca26"
             ],
             [
              1,
              "#f0f921"
             ]
            ],
            "type": "heatmapgl"
           }
          ],
          "histogram": [
           {
            "marker": {
             "pattern": {
              "fillmode": "overlay",
              "size": 10,
              "solidity": 0.2
             }
            },
            "type": "histogram"
           }
          ],
          "histogram2d": [
           {
            "colorbar": {
             "outlinewidth": 0,
             "ticks": ""
            },
            "colorscale": [
             [
              0,
              "#0d0887"
             ],
             [
              0.1111111111111111,
              "#46039f"
             ],
             [
              0.2222222222222222,
              "#7201a8"
             ],
             [
              0.3333333333333333,
              "#9c179e"
             ],
             [
              0.4444444444444444,
              "#bd3786"
             ],
             [
              0.5555555555555556,
              "#d8576b"
             ],
             [
              0.6666666666666666,
              "#ed7953"
             ],
             [
              0.7777777777777778,
              "#fb9f3a"
             ],
             [
              0.8888888888888888,
              "#fdca26"
             ],
             [
              1,
              "#f0f921"
             ]
            ],
            "type": "histogram2d"
           }
          ],
          "histogram2dcontour": [
           {
            "colorbar": {
             "outlinewidth": 0,
             "ticks": ""
            },
            "colorscale": [
             [
              0,
              "#0d0887"
             ],
             [
              0.1111111111111111,
              "#46039f"
             ],
             [
              0.2222222222222222,
              "#7201a8"
             ],
             [
              0.3333333333333333,
              "#9c179e"
             ],
             [
              0.4444444444444444,
              "#bd3786"
             ],
             [
              0.5555555555555556,
              "#d8576b"
             ],
             [
              0.6666666666666666,
              "#ed7953"
             ],
             [
              0.7777777777777778,
              "#fb9f3a"
             ],
             [
              0.8888888888888888,
              "#fdca26"
             ],
             [
              1,
              "#f0f921"
             ]
            ],
            "type": "histogram2dcontour"
           }
          ],
          "mesh3d": [
           {
            "colorbar": {
             "outlinewidth": 0,
             "ticks": ""
            },
            "type": "mesh3d"
           }
          ],
          "parcoords": [
           {
            "line": {
             "colorbar": {
              "outlinewidth": 0,
              "ticks": ""
             }
            },
            "type": "parcoords"
           }
          ],
          "pie": [
           {
            "automargin": true,
            "type": "pie"
           }
          ],
          "scatter": [
           {
            "fillpattern": {
             "fillmode": "overlay",
             "size": 10,
             "solidity": 0.2
            },
            "type": "scatter"
           }
          ],
          "scatter3d": [
           {
            "line": {
             "colorbar": {
              "outlinewidth": 0,
              "ticks": ""
             }
            },
            "marker": {
             "colorbar": {
              "outlinewidth": 0,
              "ticks": ""
             }
            },
            "type": "scatter3d"
           }
          ],
          "scattercarpet": [
           {
            "marker": {
             "colorbar": {
              "outlinewidth": 0,
              "ticks": ""
             }
            },
            "type": "scattercarpet"
           }
          ],
          "scattergeo": [
           {
            "marker": {
             "colorbar": {
              "outlinewidth": 0,
              "ticks": ""
             }
            },
            "type": "scattergeo"
           }
          ],
          "scattergl": [
           {
            "marker": {
             "colorbar": {
              "outlinewidth": 0,
              "ticks": ""
             }
            },
            "type": "scattergl"
           }
          ],
          "scattermapbox": [
           {
            "marker": {
             "colorbar": {
              "outlinewidth": 0,
              "ticks": ""
             }
            },
            "type": "scattermapbox"
           }
          ],
          "scatterpolar": [
           {
            "marker": {
             "colorbar": {
              "outlinewidth": 0,
              "ticks": ""
             }
            },
            "type": "scatterpolar"
           }
          ],
          "scatterpolargl": [
           {
            "marker": {
             "colorbar": {
              "outlinewidth": 0,
              "ticks": ""
             }
            },
            "type": "scatterpolargl"
           }
          ],
          "scatterternary": [
           {
            "marker": {
             "colorbar": {
              "outlinewidth": 0,
              "ticks": ""
             }
            },
            "type": "scatterternary"
           }
          ],
          "surface": [
           {
            "colorbar": {
             "outlinewidth": 0,
             "ticks": ""
            },
            "colorscale": [
             [
              0,
              "#0d0887"
             ],
             [
              0.1111111111111111,
              "#46039f"
             ],
             [
              0.2222222222222222,
              "#7201a8"
             ],
             [
              0.3333333333333333,
              "#9c179e"
             ],
             [
              0.4444444444444444,
              "#bd3786"
             ],
             [
              0.5555555555555556,
              "#d8576b"
             ],
             [
              0.6666666666666666,
              "#ed7953"
             ],
             [
              0.7777777777777778,
              "#fb9f3a"
             ],
             [
              0.8888888888888888,
              "#fdca26"
             ],
             [
              1,
              "#f0f921"
             ]
            ],
            "type": "surface"
           }
          ],
          "table": [
           {
            "cells": {
             "fill": {
              "color": "#EBF0F8"
             },
             "line": {
              "color": "white"
             }
            },
            "header": {
             "fill": {
              "color": "#C8D4E3"
             },
             "line": {
              "color": "white"
             }
            },
            "type": "table"
           }
          ]
         },
         "layout": {
          "annotationdefaults": {
           "arrowcolor": "#2a3f5f",
           "arrowhead": 0,
           "arrowwidth": 1
          },
          "autotypenumbers": "strict",
          "coloraxis": {
           "colorbar": {
            "outlinewidth": 0,
            "ticks": ""
           }
          },
          "colorscale": {
           "diverging": [
            [
             0,
             "#8e0152"
            ],
            [
             0.1,
             "#c51b7d"
            ],
            [
             0.2,
             "#de77ae"
            ],
            [
             0.3,
             "#f1b6da"
            ],
            [
             0.4,
             "#fde0ef"
            ],
            [
             0.5,
             "#f7f7f7"
            ],
            [
             0.6,
             "#e6f5d0"
            ],
            [
             0.7,
             "#b8e186"
            ],
            [
             0.8,
             "#7fbc41"
            ],
            [
             0.9,
             "#4d9221"
            ],
            [
             1,
             "#276419"
            ]
           ],
           "sequential": [
            [
             0,
             "#0d0887"
            ],
            [
             0.1111111111111111,
             "#46039f"
            ],
            [
             0.2222222222222222,
             "#7201a8"
            ],
            [
             0.3333333333333333,
             "#9c179e"
            ],
            [
             0.4444444444444444,
             "#bd3786"
            ],
            [
             0.5555555555555556,
             "#d8576b"
            ],
            [
             0.6666666666666666,
             "#ed7953"
            ],
            [
             0.7777777777777778,
             "#fb9f3a"
            ],
            [
             0.8888888888888888,
             "#fdca26"
            ],
            [
             1,
             "#f0f921"
            ]
           ],
           "sequentialminus": [
            [
             0,
             "#0d0887"
            ],
            [
             0.1111111111111111,
             "#46039f"
            ],
            [
             0.2222222222222222,
             "#7201a8"
            ],
            [
             0.3333333333333333,
             "#9c179e"
            ],
            [
             0.4444444444444444,
             "#bd3786"
            ],
            [
             0.5555555555555556,
             "#d8576b"
            ],
            [
             0.6666666666666666,
             "#ed7953"
            ],
            [
             0.7777777777777778,
             "#fb9f3a"
            ],
            [
             0.8888888888888888,
             "#fdca26"
            ],
            [
             1,
             "#f0f921"
            ]
           ]
          },
          "colorway": [
           "#636efa",
           "#EF553B",
           "#00cc96",
           "#ab63fa",
           "#FFA15A",
           "#19d3f3",
           "#FF6692",
           "#B6E880",
           "#FF97FF",
           "#FECB52"
          ],
          "font": {
           "color": "#2a3f5f"
          },
          "geo": {
           "bgcolor": "white",
           "lakecolor": "white",
           "landcolor": "#E5ECF6",
           "showlakes": true,
           "showland": true,
           "subunitcolor": "white"
          },
          "hoverlabel": {
           "align": "left"
          },
          "hovermode": "closest",
          "mapbox": {
           "style": "light"
          },
          "paper_bgcolor": "white",
          "plot_bgcolor": "#E5ECF6",
          "polar": {
           "angularaxis": {
            "gridcolor": "white",
            "linecolor": "white",
            "ticks": ""
           },
           "bgcolor": "#E5ECF6",
           "radialaxis": {
            "gridcolor": "white",
            "linecolor": "white",
            "ticks": ""
           }
          },
          "scene": {
           "xaxis": {
            "backgroundcolor": "#E5ECF6",
            "gridcolor": "white",
            "gridwidth": 2,
            "linecolor": "white",
            "showbackground": true,
            "ticks": "",
            "zerolinecolor": "white"
           },
           "yaxis": {
            "backgroundcolor": "#E5ECF6",
            "gridcolor": "white",
            "gridwidth": 2,
            "linecolor": "white",
            "showbackground": true,
            "ticks": "",
            "zerolinecolor": "white"
           },
           "zaxis": {
            "backgroundcolor": "#E5ECF6",
            "gridcolor": "white",
            "gridwidth": 2,
            "linecolor": "white",
            "showbackground": true,
            "ticks": "",
            "zerolinecolor": "white"
           }
          },
          "shapedefaults": {
           "line": {
            "color": "#2a3f5f"
           }
          },
          "ternary": {
           "aaxis": {
            "gridcolor": "white",
            "linecolor": "white",
            "ticks": ""
           },
           "baxis": {
            "gridcolor": "white",
            "linecolor": "white",
            "ticks": ""
           },
           "bgcolor": "#E5ECF6",
           "caxis": {
            "gridcolor": "white",
            "linecolor": "white",
            "ticks": ""
           }
          },
          "title": {
           "x": 0.05
          },
          "xaxis": {
           "automargin": true,
           "gridcolor": "white",
           "linecolor": "white",
           "ticks": "",
           "title": {
            "standoff": 15
           },
           "zerolinecolor": "white",
           "zerolinewidth": 2
          },
          "yaxis": {
           "automargin": true,
           "gridcolor": "white",
           "linecolor": "white",
           "ticks": "",
           "title": {
            "standoff": 15
           },
           "zerolinecolor": "white",
           "zerolinewidth": 2
          }
         }
        },
        "xaxis": {
         "anchor": "y",
         "domain": [
          0,
          1
         ],
         "title": {
          "text": "date"
         }
        },
        "yaxis": {
         "anchor": "x",
         "domain": [
          0,
          1
         ],
         "title": {
          "text": "value"
         }
        }
       }
      }
     },
     "metadata": {},
     "output_type": "display_data"
    }
   ],
   "source": [
    "px.line(bayo_prices)"
   ]
  },
  {
   "cell_type": "code",
   "execution_count": 103,
   "metadata": {},
   "outputs": [],
   "source": [
    "bayo_prices.to_csv('prices_data/bayo_clean_data.csv')"
   ]
  }
 ],
 "metadata": {
  "kernelspec": {
   "display_name": "Python 3",
   "language": "python",
   "name": "python3"
  },
  "language_info": {
   "codemirror_mode": {
    "name": "ipython",
    "version": 3
   },
   "file_extension": ".py",
   "mimetype": "text/x-python",
   "name": "python",
   "nbconvert_exporter": "python",
   "pygments_lexer": "ipython3",
   "version": "3.12.0"
  }
 },
 "nbformat": 4,
 "nbformat_minor": 2
}
